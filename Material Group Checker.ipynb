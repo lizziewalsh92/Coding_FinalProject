{
 "cells": [
  {
   "cell_type": "code",
   "execution_count": 2,
   "id": "dc4fb610-1aa8-42ec-b0dc-6ac8514abea8",
   "metadata": {},
   "outputs": [],
   "source": [
    "import pandas as pd"
   ]
  },
  {
   "cell_type": "code",
   "execution_count": 9,
   "id": "d73cd1f5-8b1d-4856-9421-1401714e1771",
   "metadata": {},
   "outputs": [
    {
     "name": "stdout",
     "output_type": "stream",
     "text": [
      "\n",
      "MATERIAL_GROUP: Not Lead\n",
      "1. 175-25 PECK AVENUE , Queens\n",
      "2. 49-50 175 PLACE , Queens\n",
      "3. 50-11 175 PLACE , Queens\n",
      "4. 56-16 175 STREET , Queens\n",
      "5. 47-11 194 STREET , Queens\n",
      "6. 47-30 196 PLACE , Queens\n",
      "7. 196-15 48 AVENUE , Queens\n",
      "8. 47-30 198 STREET , Queens\n",
      "9. 47-46 198 STREET , Queens\n",
      "10. 47-52 198 STREET , Queens\n",
      "\n",
      "MATERIAL_GROUP: Unknown\n",
      "1. 50-07 175 PLACE , Queens\n",
      "2. 47-63 194 STREET , Queens\n",
      "3. 47-65 196 STREET , Queens\n",
      "4. 47-39 196 STREET , Queens\n",
      "5. 48-78 188 STREET , Queens\n",
      "6. 50-20 192 STREET , Queens\n",
      "7. 50-43 192 STREET , Queens\n",
      "8. 166-07 43 AVENUE , Queens\n",
      "9. 171-64 46 AVENUE , Queens\n",
      "10. 46-76 UTOPIA PARKWAY , Queens\n",
      "\n",
      "MATERIAL_GROUP: Potential Lead\n",
      "1. 43-14 147 STREET , Queens\n",
      "2. 173-40 47 AVENUE , Queens\n",
      "3. 147-30 CHERRY AVENUE , Queens\n",
      "4. 149-15 CHERRY AVENUE , Queens\n",
      "5. 149-36 ELM AVENUE , Queens\n",
      "6. 149-40 ELM AVENUE , Queens\n",
      "7. 33-30 204 STREET , Queens\n",
      "8. 148-39 KALMIA AVENUE , Queens\n",
      "9. 148-36 KALMIA AVENUE , Queens\n",
      "10. 45-08 149 STREET , Queens\n",
      "\n",
      "MATERIAL_GROUP: Non-Applicable\n",
      "1. 153-65 146 AVENUE , Queens\n",
      "2. 144-64 153 LANE , Queens\n",
      "3. 144-63 153 PLACE , Queens\n",
      "4. 10-14 CHURCH ROAD , Queens\n",
      "5. 2434 1 AVENUE , Manhattan\n",
      "6. 41 PALADINO AVENUE , Manhattan\n",
      "7. 175 EAST  122 STREET , Manhattan\n",
      "8. 162 KOSCIUSZKO STREET , Brooklyn\n",
      "9. 655 LAFAYETTE AVENUE , Brooklyn\n",
      "10. 698 MARCY AVENUE , Brooklyn\n"
     ]
    }
   ],
   "source": [
    "import json\n",
    "from collections import defaultdict\n",
    "\n",
    "# Load the GeoJSON file\n",
    "with open(\"lead-address-slim.geojson\", \"r\") as f:\n",
    "    data = json.load(f)\n",
    "\n",
    "# Store up to 10 addresses per MATERIAL_GROUP\n",
    "samples = defaultdict(list)\n",
    "\n",
    "for feature in data.get(\"features\", []):\n",
    "    props = feature.get(\"properties\", {})\n",
    "    group = props.get(\"MATERIAL_GROUP\")\n",
    "    address = props.get(\"FullAddress\")\n",
    "\n",
    "    if not group or not address:\n",
    "        continue  # Skip incomplete entries\n",
    "\n",
    "    group = group.strip()\n",
    "    address = address.strip()\n",
    "\n",
    "    if len(samples[group]) < 10:\n",
    "        samples[group].append(address)\n",
    "\n",
    "# Print samples\n",
    "for group, addresses in samples.items():\n",
    "    print(f\"\\nMATERIAL_GROUP: {group}\")\n",
    "    for i, addr in enumerate(addresses, 1):\n",
    "        print(f\"{i}. {addr}\")"
   ]
  },
  {
   "cell_type": "code",
   "execution_count": null,
   "id": "1b28ccc5-8920-4d2a-93c0-4ce08bea2fea",
   "metadata": {},
   "outputs": [],
   "source": []
  }
 ],
 "metadata": {
  "kernelspec": {
   "display_name": "Python [conda env:base] *",
   "language": "python",
   "name": "conda-base-py"
  },
  "language_info": {
   "codemirror_mode": {
    "name": "ipython",
    "version": 3
   },
   "file_extension": ".py",
   "mimetype": "text/x-python",
   "name": "python",
   "nbconvert_exporter": "python",
   "pygments_lexer": "ipython3",
   "version": "3.12.7"
  }
 },
 "nbformat": 4,
 "nbformat_minor": 5
}
